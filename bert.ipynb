{
 "cells": [
  {
   "cell_type": "code",
   "execution_count": 2,
   "metadata": {},
   "outputs": [],
   "source": [
    "import torch \n",
    "from torch import nn \n",
    "from transformers import BertModel, BertConfig, BertTokenizer"
   ]
  },
  {
   "cell_type": "code",
   "execution_count": 3,
   "metadata": {},
   "outputs": [],
   "source": [
    "class BertMoodClassifier(nn.Module):\n",
    "    pretrained_path = \"/mnt/e/Pretrained/Bert/bert-base-chinese/\"\n",
    "    def __init__(self, num_label : int, bert_config : dict, pretrained_bert : bool = True) -> None:\n",
    "        super().__init__()\n",
    "        if pretrained_bert:\n",
    "            # print(self.pretrained_path)\n",
    "            self.bert_model = BertModel.from_pretrained(self.pretrained_path, config = bert_config)\n",
    "        else:\n",
    "            self.bert_model = BertModel.from_pretrained(config = bert_config)\n",
    "        self.classifier = nn.Linear(bert_config.hidden_size, num_label)\n",
    "    \n",
    "    def forward(self, input_ids, attention_mask, token_type_ids):\n",
    "        \n",
    "        bert_out = self.bert_model(\n",
    "            input_ids=input_ids, \n",
    "            attention_mask=attention_mask, \n",
    "            token_type_ids=token_type_ids            \n",
    "        )\n",
    "        \n",
    "        return bert_out"
   ]
  },
  {
   "cell_type": "code",
   "execution_count": 5,
   "metadata": {},
   "outputs": [
    {
     "name": "stderr",
     "output_type": "stream",
     "text": [
      "Some weights of the model checkpoint at /mnt/e/Pretrained/Bert/bert-base-chinese/ were not used when initializing BertModel: ['cls.predictions.transform.LayerNorm.bias', 'cls.seq_relationship.weight', 'cls.predictions.decoder.weight', 'cls.predictions.transform.LayerNorm.weight', 'cls.seq_relationship.bias', 'cls.predictions.bias', 'cls.predictions.transform.dense.weight', 'cls.predictions.transform.dense.bias']\n",
      "- This IS expected if you are initializing BertModel from the checkpoint of a model trained on another task or with another architecture (e.g. initializing a BertForSequenceClassification model from a BertForPreTraining model).\n",
      "- This IS NOT expected if you are initializing BertModel from the checkpoint of a model that you expect to be exactly identical (initializing a BertForSequenceClassification model from a BertForSequenceClassification model).\n"
     ]
    }
   ],
   "source": [
    "model_name = 'bert-base-chinese'\n",
    "config = BertConfig.from_pretrained(model_name)\n",
    "tokenizer = BertTokenizer.from_pretrained(model_name)\n",
    "config.output_hidden_states = True\n",
    "config.output_attentions = True\n",
    "\n",
    "model = BertMoodClassifier(\n",
    "    num_label=4,\n",
    "    bert_config=config,\n",
    "    pretrained_bert=True\n",
    ")\n",
    "\n",
    "demo = \"你好，今天天气不错\"\n",
    "\n",
    "res = tokenizer.encode_plus(demo)\n",
    "# res = tokenizer.tokenize(demo)\n",
    "# input_id = tokenizer.convert_tokens_to_ids(res)\n",
    "# print(res)\n",
    "# print(input_id)\n",
    "\n",
    "bert_out = model.forward(\n",
    "    input_ids=torch.tensor([res[\"input_ids\"]]),\n",
    "    token_type_ids=torch.tensor([res[\"token_type_ids\"]]),\n",
    "    attention_mask=torch.tensor([res[\"attention_mask\"]]),\n",
    ")"
   ]
  },
  {
   "cell_type": "code",
   "execution_count": 7,
   "metadata": {},
   "outputs": [
    {
     "name": "stdout",
     "output_type": "stream",
     "text": [
      "attentions\n",
      "clear\n",
      "copy\n",
      "cross_attentions\n",
      "fromkeys\n",
      "get\n",
      "hidden_states\n",
      "items\n",
      "keys\n",
      "last_hidden_state\n",
      "move_to_end\n",
      "past_key_values\n",
      "pooler_output\n",
      "pop\n",
      "popitem\n",
      "setdefault\n",
      "to_tuple\n",
      "update\n",
      "values\n"
     ]
    }
   ],
   "source": [
    "for attr in dir(bert_out):\n",
    "    if not attr.startswith(\"__\"):\n",
    "        print(attr)"
   ]
  },
  {
   "cell_type": "code",
   "execution_count": 10,
   "metadata": {},
   "outputs": [
    {
     "data": {
      "text/plain": [
       "torch.Size([1, 768])"
      ]
     },
     "execution_count": 10,
     "metadata": {},
     "output_type": "execute_result"
    }
   ],
   "source": []
  }
 ],
 "metadata": {
  "interpreter": {
   "hash": "31f2aee4e71d21fbe5cf8b01ff0e069b9275f58929596ceb00d14d90e3e16cd6"
  },
  "kernelspec": {
   "display_name": "Python 3.6.9 64-bit",
   "language": "python",
   "name": "python3"
  },
  "language_info": {
   "codemirror_mode": {
    "name": "ipython",
    "version": 3
   },
   "file_extension": ".py",
   "mimetype": "text/x-python",
   "name": "python",
   "nbconvert_exporter": "python",
   "pygments_lexer": "ipython3",
   "version": "3.6.9"
  },
  "orig_nbformat": 4
 },
 "nbformat": 4,
 "nbformat_minor": 2
}
